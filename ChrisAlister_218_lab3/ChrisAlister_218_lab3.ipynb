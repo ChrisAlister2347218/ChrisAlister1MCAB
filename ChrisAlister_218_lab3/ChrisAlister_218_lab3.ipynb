{
 "cells": [
  {
   "cell_type": "markdown",
   "metadata": {},
   "source": [
    "Write a function in Python with a string such that it accepts a parameter- “stringsplit”. This encoded string will contain your name, domain name and register number. You can separate the values in the string by any number of underscores. [The string should not contain any other underscore symbols in your name, domain name and register number]. The function should return a Python dictionary with your name, domain name and register number."
   ]
  },
  {
   "cell_type": "code",
   "execution_count": 2,
   "metadata": {},
   "outputs": [
    {
     "name": "stdout",
     "output_type": "stream",
     "text": [
      "{'name': 'ChrisALister', 'domain': 'Ecommerce', 'register_number': '2347218'}\n"
     ]
    }
   ],
   "source": [
    "def ecom_string(stringsplit):\n",
    "    parts = stringsplit.split('__') \n",
    "    if len(parts) != 3:\n",
    "        return None  \n",
    "    \n",
    "    name = parts[0] \n",
    "    domain = parts[1]  \n",
    "    reg_number = parts[2]     \n",
    "   \n",
    "    dict1 = {\n",
    "        'name': name,\n",
    "        'domain': domain,\n",
    "        'register_number': reg_number\n",
    "    }\n",
    "    return dict1\n",
    "\n",
    "encoded_string = \"ChrisALister__Ecommerce__2347218\"\n",
    "dict1_info = ecom_string(encoded_string)\n",
    "print(dict1_info)"
   ]
  }
 ],
 "metadata": {
  "kernelspec": {
   "display_name": "Python 3",
   "language": "python",
   "name": "python3"
  },
  "language_info": {
   "codemirror_mode": {
    "name": "ipython",
    "version": 3
   },
   "file_extension": ".py",
   "mimetype": "text/x-python",
   "name": "python",
   "nbconvert_exporter": "python",
   "pygments_lexer": "ipython3",
   "version": "3.11.2"
  },
  "orig_nbformat": 4
 },
 "nbformat": 4,
 "nbformat_minor": 2
}
