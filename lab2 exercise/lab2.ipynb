{
 "cells": [
  {
   "cell_type": "code",
   "execution_count": 10,
   "metadata": {},
   "outputs": [
    {
     "name": "stdout",
     "output_type": "stream",
     "text": [
      "['Ecommerce', 'Clothing']\n",
      "['Ecommerce', 'Clothing', ['shirt', 'pant']]\n",
      "['Ecommerce', ['Tie'], 'Clothing', ['shirt', 'pant']]\n",
      "['Ecommerce', ['Tie'], 'Clothing', ['shirt', 'pant'], 'T-shirt', 'bow']\n"
     ]
    }
   ],
   "source": [
    "#List of my Domian\n",
    "list1=[\"Ecommerce\",\"Clothing\"]\n",
    "print(list1)\n",
    "#append\n",
    "list1.append([\"shirt\",\"pant\"])\n",
    "print(list1)\n",
    "#insert\n",
    "list1.insert(1,[\"Tie\"])\n",
    "print(list1)\n",
    "#extend\n",
    "list1.extend([\"T-shirt\",\"bow\"])\n",
    "print(list1)"
   ]
  },
  {
   "cell_type": "code",
   "execution_count": 9,
   "metadata": {},
   "outputs": [
    {
     "name": "stdout",
     "output_type": "stream",
     "text": [
      "[20, 10, 50, 40, 5, 25]\n",
      "[25, 10, 50, 40, 5, 20]\n",
      "5\n"
     ]
    }
   ],
   "source": [
    "#Creating a numeric list\n",
    "Ecomlist=[20,10,50,40,5,25]\n",
    "print(Ecomlist)\n",
    "#swaping first and last element\n",
    "Ecomlist[0],Ecomlist[-1]=Ecomlist[-1],Ecomlist[0]\n",
    "print(Ecomlist)\n",
    "#finding the smallest element\n",
    "print(min(Ecomlist))"
   ]
  },
  {
   "cell_type": "code",
   "execution_count": 18,
   "metadata": {},
   "outputs": [
    {
     "name": "stdout",
     "output_type": "stream",
     "text": [
      "{'b': [10, 20, 30], 'c': [1, 5, 8], 'a': [20, 100]}\n",
      "[('a', [20, 100]), ('b', [10, 20, 30]), ('c', [1, 5, 8])]\n"
     ]
    }
   ],
   "source": [
    "#creating dictionary\n",
    "dict1={\"b\":[10,20,30],\"c\":[1,5,8],\"a\":[20,100]}\n",
    "print(dict1)\n",
    "#sorting\n",
    "print(sorted(dict1.items()))\n"
   ]
  },
  {
   "cell_type": "code",
   "execution_count": 20,
   "metadata": {},
   "outputs": [
    {
     "name": "stdout",
     "output_type": "stream",
     "text": [
      "{'a': 10, 'b': 20, 'c': 5, 'd': 15}\n",
      "50\n"
     ]
    }
   ],
   "source": [
    "#Creating a numeric dict\n",
    "ecomdict={\"a\":10,\"b\":20,\"c\":5,\"d\":15}\n",
    "print(ecomdict)\n",
    "#Sum of values\n",
    "print(sum(ecomdict.values()))"
   ]
  },
  {
   "cell_type": "code",
   "execution_count": 25,
   "metadata": {},
   "outputs": [
    {
     "name": "stdout",
     "output_type": "stream",
     "text": [
      "[{'name': 'Chris', 'age': 20}, {'name': 'Clement', 'age': 21}, {'name': 'deepak', 'age': 19}]\n",
      "The list printed sorting by age in descending order: \n",
      "[{'name': 'Clement', 'age': 21}, {'name': 'Chris', 'age': 20}, {'name': 'deepak', 'age': 19}]\n"
     ]
    }
   ],
   "source": [
    "#creating dictionary\n",
    "list1 = [{\"name\": \"Chris\", \"age\": 20},{\"name\": \"Clement\", \"age\": 21},{\"name\": \"deepak\", \"age\": 19}]\n",
    "print(list1)\n",
    "print(\"The list printed sorting by age in descending order: \")\n",
    "print(sorted(list1, key=lambda i: i['age'], reverse=True))\n"
   ]
  }
 ],
 "metadata": {
  "kernelspec": {
   "display_name": "Python 3",
   "language": "python",
   "name": "python3"
  },
  "language_info": {
   "codemirror_mode": {
    "name": "ipython",
    "version": 3
   },
   "file_extension": ".py",
   "mimetype": "text/x-python",
   "name": "python",
   "nbconvert_exporter": "python",
   "pygments_lexer": "ipython3",
   "version": "3.11.2"
  },
  "orig_nbformat": 4
 },
 "nbformat": 4,
 "nbformat_minor": 2
}
