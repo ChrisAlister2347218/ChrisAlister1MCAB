{
 "cells": [
  {
   "cell_type": "markdown",
   "metadata": {},
   "source": [
    "Create two 3×3 matrices using the random function in Numpy and perform the following operations.\n",
    "1. Product (prod)\n",
    "2. Multiplication (multiply)\n",
    "3. Dot Product (dot)\n"
   ]
  },
  {
   "cell_type": "code",
   "execution_count": 1,
   "metadata": {},
   "outputs": [
    {
     "name": "stdout",
     "output_type": "stream",
     "text": [
      "Matrix 1:\n",
      "[[0.30633456 0.63857423 0.67352137]\n",
      " [0.83435997 0.83426022 0.75314701]\n",
      " [0.69623673 0.71921052 0.89603982]]\n",
      "\n",
      "Matrix 2:\n",
      "[[0.72500788 0.01526175 0.0395176 ]\n",
      " [0.98844533 0.34861276 0.04023338]\n",
      " [0.01560041 0.69696603 0.3138538 ]]\n",
      "\n",
      "Product (prod) Result:\n",
      "0.03099087159571356\n",
      "\n",
      "Multiplication (multiply) Result:\n",
      "[[0.22209497 0.00974576 0.02661595]\n",
      " [0.82471921 0.29083376 0.03030165]\n",
      " [0.01086158 0.5012653  0.28122551]]\n",
      "\n",
      "Dot Product (dot) Result:\n",
      "[[0.86379789 0.69671184 0.24918485]\n",
      " [1.44128757 0.82848544 0.30291506]\n",
      " [1.22965598 0.88586107 0.33767538]]\n"
     ]
    }
   ],
   "source": [
    "import numpy as np\n",
    "matrix1 = np.random.rand(3, 3)\n",
    "matrix2 = np.random.rand(3, 3)\n",
    "product_result = np.prod(matrix1) \n",
    "multiplication_result = np.multiply(matrix1, matrix2) \n",
    "dot_product_result = np.dot(matrix1, matrix2) \n",
    "print(\"Matrix 1:\")\n",
    "print(matrix1)\n",
    "print(\"\\nMatrix 2:\")\n",
    "print(matrix2)\n",
    "print(\"\\nProduct (prod) Result:\")\n",
    "print(product_result)\n",
    "print(\"\\nMultiplication (multiply) Result:\")\n",
    "print(multiplication_result)\n",
    "print(\"\\nDot Product (dot) Result:\")\n",
    "print(dot_product_result)\n"
   ]
  },
  {
   "cell_type": "markdown",
   "metadata": {},
   "source": [
    "Perform the following set operations using the Numpy functions.\n",
    "1. Union\n",
    "2. Intersection\n",
    "3. Set difference\n",
    "4. XOR"
   ]
  },
  {
   "cell_type": "code",
   "execution_count": 1,
   "metadata": {},
   "outputs": [
    {
     "name": "stdout",
     "output_type": "stream",
     "text": [
      "Array 1: [1 2 3 4 5]\n",
      "Array 2: [3 4 5 6 7]\n",
      "Union: [1 2 3 4 5 6 7]\n",
      "Intersection: [3 4 5]\n",
      "Set Difference (array1 - array2): [1 2]\n",
      "XOR (Symmetric Difference): [1 2 6 7]\n"
     ]
    }
   ],
   "source": [
    "import numpy as np\n",
    "array1 = np.array([1, 2, 3, 4, 5])\n",
    "array2 = np.array([3, 4, 5, 6, 7])\n",
    "union_result = np.union1d(array1, array2)\n",
    "intersection_result = np.intersect1d(array1, array2)\n",
    "difference_result = np.setdiff1d(array1, array2)\n",
    "xor_result = np.setxor1d(array1, array2)\n",
    "print(\"Array 1:\", array1)\n",
    "print(\"Array 2:\", array2)\n",
    "print(\"Union:\", union_result)\n",
    "print(\"Intersection:\", intersection_result)\n",
    "print(\"Set Difference (array1 - array2):\", difference_result)\n",
    "print(\"XOR (Symmetric Difference):\", xor_result)\n"
   ]
  },
  {
   "cell_type": "markdown",
   "metadata": {},
   "source": [
    "Create a 1D array using Random function and perform the following operations.\n",
    "1. Cumulative sum\n",
    "2. Cumulative Product\n",
    "3. Discrete difference (with n=3)\n",
    "4. Find the unique elements from the array\n"
   ]
  },
  {
   "cell_type": "code",
   "execution_count": 2,
   "metadata": {},
   "outputs": [
    {
     "name": "stdout",
     "output_type": "stream",
     "text": [
      "Random Array:\n",
      "[0.53278047 0.32905038 0.51184504 0.39023444 0.9256599  0.80746956\n",
      " 0.85880056 0.23266297 0.45279329 0.76558776]\n",
      "\n",
      "Cumulative Sum:\n",
      "[0.53278047 0.86183085 1.37367589 1.76391033 2.68957023 3.49703979\n",
      " 4.35584035 4.58850332 5.04129661 5.80688437]\n",
      "\n",
      "Cumulative Product:\n",
      "[0.53278047 0.17531162 0.08973238 0.03501667 0.03241352 0.02617293\n",
      " 0.02247733 0.00522964 0.00236795 0.00181287]\n",
      "\n",
      "Discrete Difference (n=3):\n",
      "[-0.69093002  0.96144133 -1.31065187  0.82313713 -0.84698991  1.52373647\n",
      " -0.75360374]\n",
      "\n",
      "Unique Elements:\n",
      "[0.23266297 0.32905038 0.39023444 0.45279329 0.51184504 0.53278047\n",
      " 0.76558776 0.80746956 0.85880056 0.9256599 ]\n"
     ]
    }
   ],
   "source": [
    "import numpy as np\n",
    "random_array = np.random.rand(10) \n",
    "cumulative_sum = np.cumsum(random_array)\n",
    "cumulative_product = np.cumprod(random_array)\n",
    "discrete_difference = np.diff(random_array, n=3)\n",
    "unique_elements = np.unique(random_array)\n",
    "print(\"Random Array:\")\n",
    "print(random_array)\n",
    "print(\"\\nCumulative Sum:\")\n",
    "print(cumulative_sum)\n",
    "print(\"\\nCumulative Product:\")\n",
    "print(cumulative_product)\n",
    "print(\"\\nDiscrete Difference (n=3):\")\n",
    "print(discrete_difference)\n",
    "print(\"\\nUnique Elements:\")\n",
    "print(unique_elements)\n"
   ]
  },
  {
   "cell_type": "markdown",
   "metadata": {},
   "source": [
    "Create two 1D array and perform the Addition using zip(), add() and user defined function (frompyfunc())"
   ]
  },
  {
   "cell_type": "code",
   "execution_count": 3,
   "metadata": {},
   "outputs": [
    {
     "name": "stdout",
     "output_type": "stream",
     "text": [
      "Array 1: [1 2 3 4 5]\n",
      "Array 2: [10 20 30 40 50]\n",
      "Result using zip(): [11 22 33 44 55]\n",
      "Result using np.add(): [11 22 33 44 55]\n",
      "Result using custom function: [11 22 33 44 55]\n"
     ]
    }
   ],
   "source": [
    "import numpy as np\n",
    "array1 = np.array([1, 2, 3, 4, 5])\n",
    "array2 = np.array([10, 20, 30, 40, 50])\n",
    "result_zip = np.array([a + b for a, b in zip(array1, array2)])\n",
    "result_add = np.add(array1, array2)\n",
    "def custom_add(x, y):\n",
    "    return x + y\n",
    "ufunc = np.frompyfunc(custom_add, 2, 1)\n",
    "result_custom = ufunc(array1, array2)\n",
    "print(\"Array 1:\", array1)\n",
    "print(\"Array 2:\", array2)\n",
    "print(\"Result using zip():\", result_zip)\n",
    "print(\"Result using np.add():\", result_add)\n",
    "print(\"Result using custom function:\", result_custom)\n"
   ]
  },
  {
   "cell_type": "markdown",
   "metadata": {},
   "source": [
    "Find the LCM (Least Common Multiple) and GCD (Greatest Common Divisor) of an array of elements using reduce()."
   ]
  },
  {
   "cell_type": "code",
   "execution_count": 4,
   "metadata": {},
   "outputs": [
    {
     "name": "stdout",
     "output_type": "stream",
     "text": [
      "Array of Elements: [12 18 24 36]\n",
      "LCM: 72\n",
      "GCD: 6\n"
     ]
    }
   ],
   "source": [
    "import numpy as np\n",
    "elements = np.array([12, 18, 24, 36])\n",
    "lcm_result = np.lcm.reduce(elements)\n",
    "gcd_result = np.gcd.reduce(elements)\n",
    "print(\"Array of Elements:\", elements)\n",
    "print(\"LCM:\", lcm_result)\n",
    "print(\"GCD:\", gcd_result)\n"
   ]
  }
 ],
 "metadata": {
  "kernelspec": {
   "display_name": "Python 3",
   "language": "python",
   "name": "python3"
  },
  "language_info": {
   "codemirror_mode": {
    "name": "ipython",
    "version": 3
   },
   "file_extension": ".py",
   "mimetype": "text/x-python",
   "name": "python",
   "nbconvert_exporter": "python",
   "pygments_lexer": "ipython3",
   "version": "3.11.2"
  },
  "orig_nbformat": 4
 },
 "nbformat": 4,
 "nbformat_minor": 2
}
