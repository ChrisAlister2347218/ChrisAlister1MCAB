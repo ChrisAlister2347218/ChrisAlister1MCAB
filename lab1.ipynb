{
 "cells": [
  {
   "cell_type": "markdown",
   "metadata": {},
   "source": [
    "My name is Chris Alister, I'm from 1MCAB (Reg:2347218, Year:2023-2025) and the Domain which I'll be working on is E-Commerce(Clothing)."
   ]
  },
  {
   "cell_type": "code",
   "execution_count": 1,
   "metadata": {},
   "outputs": [
    {
     "name": "stdout",
     "output_type": "stream",
     "text": [
      "The number of occurrences of the word 'Ecommerce' is: 3\n"
     ]
    }
   ],
   "source": [
    "#Paragraph based on my domain\n",
    "paragraph = '''Ecommerce has revolutionized the clothing industry, providing an innovative and convenient way for consumers to shop for the latest fashion trends from the comfort of their homes. \n",
    "        With the rise of Ecommerce platforms dedicated to clothing, fashion enthusiasts now have access to a vast array of apparel and accessories at their fingertips. \n",
    "        Online clothing stores offer a seamless shopping experience, enabling customers to browse through diverse collections, compare prices, read reviews, and make informed decisions before making a purchase. \n",
    "        This digital transformation in the clothing sector has not only expanded the market reach for brands and designers but has also empowered consumers with a personalized and hassle-free shopping journey. \n",
    "        From trendy streetwear to elegant formalwear, Ecommerce in the clothing domain has become a bustling marketplace where style meets convenience.\n",
    "        '''\n",
    "#paragraph split into words\n",
    "s1 = paragraph.split(\" \")\n",
    "\n",
    "#word to be considered\n",
    "word = \"Ecommerce\"\n",
    "\n",
    "#initializing counter\n",
    "count = 0\n",
    "for i in s1:\n",
    "    if i == word:\n",
    "        count = count + 1\n",
    "\n",
    "print(\"The number of occurrences of the word 'Ecommerce' is:\", count)"
   ]
  },
  {
   "cell_type": "markdown",
   "metadata": {},
   "source": [
    "->Write a python program to display all the datatypes of selected specific elements in the paragraph. (For example:– name - string, reg.no - int, marks - float, etc.)"
   ]
  },
  {
   "cell_type": "code",
   "execution_count": 2,
   "metadata": {},
   "outputs": [
    {
     "name": "stdout",
     "output_type": "stream",
     "text": [
      "name - string\n",
      "reg.no - int\n",
      "marks - float\n",
      "is_passed - bool\n",
      "age - int\n"
     ]
    }
   ],
   "source": [
    "def infer_data_types(paragraph):\n",
    "\n",
    "    # Initialize an empty dictionary to store specific elements and their inferred data types\n",
    "    data_types_dict = {}\n",
    "\n",
    "    # Split the paragraph into individual elements based on commas and spaces\n",
    "    elements = paragraph.split(', ')\n",
    "\n",
    "    for element in elements:\n",
    "        # Split each element based on the first space to separate the name from the value\n",
    "        name, value = element.split(' ', 1)\n",
    "\n",
    "        # Infer the data type of the value\n",
    "        if value.isdigit():\n",
    "            data_type = 'int'\n",
    "        elif value.replace('.', '', 1).isdigit():\n",
    "            data_type = 'float'\n",
    "        elif value.lower() in ('true', 'false'):\n",
    "            data_type = 'bool'\n",
    "        else:\n",
    "            data_type = 'string'\n",
    "\n",
    "        # Add the specific element and its inferred data type to the dictionary\n",
    "        data_types_dict[name] = data_type\n",
    "\n",
    "    return data_types_dict\n",
    "\n",
    "\n",
    "# Example paragraph with specific elements and values\n",
    "paragraph = '''name Chris, reg.no 2347218, marks 89.5, is_passed True, age 20'''\n",
    "\n",
    "# Call the function to infer data types of specific elements in the paragraph\n",
    "result = infer_data_types(paragraph)\n",
    "\n",
    "# Display the inferred data types of specific elements\n",
    "for element, data_type in result.items():\n",
    "    print(f\"{element} - {data_type}\")"
   ]
  },
  {
   "cell_type": "markdown",
   "metadata": {},
   "source": [
    "->Write a python program to count the number of alphabets, numeric and other special symbols in the paragraph."
   ]
  },
  {
   "cell_type": "code",
   "execution_count": 3,
   "metadata": {},
   "outputs": [
    {
     "name": "stdout",
     "output_type": "stream",
     "text": [
      "The paragraph typed is:  My Domain is Ecommerce Clothing 2023!\n",
      "Alphabets count: 27\n",
      "Numeric count: 4\n",
      "Special symbols count: 6\n"
     ]
    }
   ],
   "source": [
    "def count_characters(paragraph):\n",
    "    # Initialize counters for alphabets, numeric, and other special symbols\n",
    "    alphabet_count = 0\n",
    "    numeric_count = 0\n",
    "    special_count = 0\n",
    "\n",
    "    for char in paragraph:\n",
    "        if char.isalpha():\n",
    "            alphabet_count += 1\n",
    "        elif char.isdigit():\n",
    "            numeric_count += 1\n",
    "        else:\n",
    "            special_count += 1\n",
    "\n",
    "    # Create a dictionary with the counts\n",
    "    character_counts = {\n",
    "        'Alphabets': alphabet_count,\n",
    "        'Numeric': numeric_count,\n",
    "        'Special Symbols': special_count\n",
    "    }\n",
    "\n",
    "    return character_counts\n",
    "\n",
    "\n",
    "# Get user input for the paragraph\n",
    "paragraph = input(\"Enter the paragraph: \")\n",
    "\n",
    "# Call the function to count characters\n",
    "result = count_characters(paragraph)\n",
    "\n",
    "# Display the counts of alphabets, numeric, and special symbols\n",
    "print(\"The paragraph typed is: \",paragraph)\n",
    "print(\"Alphabets count:\", result['Alphabets'])\n",
    "print(\"Numeric count:\", result['Numeric'])\n",
    "print(\"Special symbols count:\", result['Special Symbols'])"
   ]
  },
  {
   "cell_type": "markdown",
   "metadata": {},
   "source": [
    "2)->Create a Set with elements that consists of various data types (int, float, string, Boolean, etc. from your domain) and perform the functions pop(), clear(), discard() and del. Write the insights as docstring."
   ]
  },
  {
   "cell_type": "code",
   "execution_count": 4,
   "metadata": {},
   "outputs": [
    {
     "name": "stdout",
     "output_type": "stream",
     "text": [
      "Popped Element: True\n",
      "Cleared Set: set()\n",
      "Set after discarding 'Summer Sale': set()\n",
      "Set deleted and no longer accessible.\n"
     ]
    }
   ],
   "source": [
    "def create_ecommerce_data_types_set():\n",
    "    ecommerce_data_types_set = {\n",
    "        \"Shirt\",\n",
    "        25,\n",
    "        34.99,\n",
    "        True,\n",
    "        (\"Black\", \"XL\"),\n",
    "        \"Summer Sale\",\n",
    "        42.5,\n",
    "    }\n",
    "    return ecommerce_data_types_set\n",
    "\n",
    "\n",
    "data_types_set = create_ecommerce_data_types_set()\n",
    "\n",
    "# Perform the functions on the Set\n",
    "popped_element = data_types_set.pop()\n",
    "print(\"Popped Element:\", popped_element)\n",
    "\n",
    "data_types_set.clear()\n",
    "print(\"Cleared Set:\", data_types_set)\n",
    "\n",
    "data_types_set.discard(\"Summer Sale\")\n",
    "print(\"Set after discarding 'Summer Sale':\", data_types_set)\n",
    "\n",
    "del data_types_set\n",
    "print(\"Set deleted and no longer accessible.\")\n"
   ]
  },
  {
   "cell_type": "markdown",
   "metadata": {},
   "source": [
    "->Update the Set with minimum 5 string attributes of your domain and arrange the Set in descending order."
   ]
  },
  {
   "cell_type": "code",
   "execution_count": 5,
   "metadata": {},
   "outputs": [
    {
     "name": "stdout",
     "output_type": "stream",
     "text": [
      "Sorted Set in Descending Order: ['Tie', 'Socks', 'Skirt', 'Shoes', 'Shirt', 'Pants', 'Hat', 'Dress']\n"
     ]
    }
   ],
   "source": [
    "def update_ecommerce_clothing_set():\n",
    "    ecommerce_clothing_set = {\n",
    "        \"Shirt\",\n",
    "        \"Pants\",\n",
    "        \"Dress\",\n",
    "        \"Shoes\",\n",
    "        \"Hat\"\n",
    "    }\n",
    "\n",
    "    # Add more string attributes to the set\n",
    "    ecommerce_clothing_set.update({\"Socks\", \"Tie\", \"Skirt\"})\n",
    "\n",
    "    return ecommerce_clothing_set\n",
    "\n",
    "\n",
    "# Update the set with string attributes related to the ecommerce-clothing domain\n",
    "updated_ecommerce_clothing_set = update_ecommerce_clothing_set()\n",
    "\n",
    "# Arrange the set in descending order\n",
    "sorted_ecommerce_clothing_set = sorted(updated_ecommerce_clothing_set, reverse=True)\n",
    "\n",
    "# Display the sorted set\n",
    "print(\"Sorted Set in Descending Order:\", sorted_ecommerce_clothing_set)"
   ]
  },
  {
   "cell_type": "markdown",
   "metadata": {},
   "source": [
    "->Create a Tuple and Execute the packing and unpacking operations of tuples using the attributes of your domain."
   ]
  },
  {
   "cell_type": "code",
   "execution_count": 6,
   "metadata": {},
   "outputs": [
    {
     "name": "stdout",
     "output_type": "stream",
     "text": [
      "Product Name: Shirt\n",
      "Product Color: Blue\n",
      "Product Size: XL\n",
      "Product Price: 25.0\n",
      "Product Availability: True\n"
     ]
    }
   ],
   "source": [
    "def create_ecommerce_clothing_tuple():\n",
    "    product_tuple = (\"Shirt\", \"Blue\", \"XL\", 25.0, True)\n",
    "    return product_tuple\n",
    "\n",
    "\n",
    "# Create a tuple representing product attributes from the ecommerce-clothing domain\n",
    "ecommerce_clothing_tuple = create_ecommerce_clothing_tuple()\n",
    "\n",
    "# Unpack the tuple into individual variables representing product attributes\n",
    "product_name, product_color, product_size, product_price, product_availability = ecommerce_clothing_tuple\n",
    "\n",
    "# Display the unpacked variables\n",
    "print(\"Product Name:\", product_name)\n",
    "print(\"Product Color:\", product_color)\n",
    "print(\"Product Size:\", product_size)\n",
    "print(\"Product Price:\", product_price)\n",
    "print(\"Product Availability:\", product_availability)"
   ]
  },
  {
   "cell_type": "markdown",
   "metadata": {},
   "source": [
    "->Enter your domain name as characters and count any number of characters and print the count (for example – (‘p’,’r’,’o’,’g’,’r’,’a’,’m’) count of ‘r’ = 2)"
   ]
  },
  {
   "cell_type": "code",
   "execution_count": 7,
   "metadata": {},
   "outputs": [
    {
     "name": "stdout",
     "output_type": "stream",
     "text": [
      "The Domain:'Ecommerce Clothing Domain'\n",
      "Count of 'o': 3\n"
     ]
    }
   ],
   "source": [
    "def count_characters(input_string, target_character):\n",
    "    return input_string.count(target_character)\n",
    "\n",
    "\n",
    "# Get input from the user for the domain name as characters\n",
    "domain_name = input(\"Enter your domain name as characters: \")\n",
    "\n",
    "# Get the target character to count\n",
    "target_char = input(\"Enter the character you want to count: \")\n",
    "\n",
    "# Call the function to count the characters\n",
    "character_count = count_characters(domain_name, target_char)\n",
    "\n",
    "# Display the count of the target character\n",
    "print(f\"The Domain:'{domain_name}'\")\n",
    "print(f\"Count of '{target_char}': {character_count}\")"
   ]
  },
  {
   "cell_type": "markdown",
   "metadata": {},
   "source": [
    "->Enter your domain name, execute all the slicing possibilities and also negative indexing."
   ]
  },
  {
   "cell_type": "code",
   "execution_count": 8,
   "metadata": {},
   "outputs": [
    {
     "name": "stdout",
     "output_type": "stream",
     "text": [
      "Slice 1: omm\n",
      "Slice 2: Ecom\n",
      "Slice 3: rce Clothing Domain\n",
      "Slice 4: niamoD gnihtolC ecremmocE\n",
      "Negative Index 1: n\n",
      "Negative Index 2: ain\n"
     ]
    }
   ],
   "source": [
    "def perform_slicing_and_negative_indexing(input_string):\n",
    "    # Slicing\n",
    "    slice1 = input_string[2:5]\n",
    "    slice2 = input_string[:4]\n",
    "    slice3 = input_string[6:]\n",
    "    slice4 = input_string[::-1]\n",
    "\n",
    "    # Negative indexing\n",
    "    negative_index1 = input_string[-1]\n",
    "    negative_index2 = input_string[-3:]\n",
    "\n",
    "    return slice1, slice2, slice3, slice4, negative_index1, negative_index2\n",
    "\n",
    "\n",
    "# Get input from the user for the input string\n",
    "input_string = input(\"Enter your input string: \")\n",
    "\n",
    "# Call the function to perform slicing and negative indexing\n",
    "sliced_results = perform_slicing_and_negative_indexing(input_string)\n",
    "\n",
    "# Display the results\n",
    "print(\"Slice 1:\", sliced_results[0])\n",
    "print(\"Slice 2:\", sliced_results[1])\n",
    "print(\"Slice 3:\", sliced_results[2])\n",
    "print(\"Slice 4:\", sliced_results[3])\n",
    "print(\"Negative Index 1:\", sliced_results[4])\n",
    "print(\"Negative Index 2:\", sliced_results[5])"
   ]
  }
 ],
 "metadata": {
  "kernelspec": {
   "display_name": "Python 3",
   "language": "python",
   "name": "python3"
  },
  "language_info": {
   "codemirror_mode": {
    "name": "ipython",
    "version": 3
   },
   "file_extension": ".py",
   "mimetype": "text/x-python",
   "name": "python",
   "nbconvert_exporter": "python",
   "pygments_lexer": "ipython3",
   "version": "3.11.2"
  },
  "orig_nbformat": 4
 },
 "nbformat": 4,
 "nbformat_minor": 2
}
