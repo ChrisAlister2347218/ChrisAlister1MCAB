{
 "cells": [
  {
   "cell_type": "markdown",
   "metadata": {},
   "source": [
    "Write a Python program to implement the object-oriented concepts of multiple, Multilevel and Hierarchical Inheritances using your domain applications."
   ]
  },
  {
   "cell_type": "code",
   "execution_count": 1,
   "metadata": {},
   "outputs": [
    {
     "name": "stdout",
     "output_type": "stream",
     "text": [
      "This is Child class of parent Ecommerce\n",
      "This is parent class- Ecommerce\n",
      "This is Sub class of parent Ecommerce\n"
     ]
    }
   ],
   "source": [
    "#Multi level inheritance\n",
    "class ecommerce:\n",
    "    def parent(self):\n",
    "        print(\"This is parent class- Ecommerce\")\n",
    "\n",
    "class ecom_child(ecommerce):\n",
    "    def child(self):\n",
    "        print(\"This is Child class of parent Ecommerce\")\n",
    "\n",
    "class ecom_subchild(ecom_child):\n",
    "    def subchild(self):\n",
    "        print(\"This is Sub class of parent Ecommerce\")\n",
    "\n",
    "ecom=ecom_subchild()\n",
    "ecom.child()\n",
    "ecom.parent()\n",
    "ecom.subchild()"
   ]
  },
  {
   "cell_type": "code",
   "execution_count": 6,
   "metadata": {},
   "outputs": [
    {
     "name": "stdout",
     "output_type": "stream",
     "text": [
      "This is the clothing section\n",
      "The is Wardrobe section\n"
     ]
    }
   ],
   "source": [
    "#Multiple Inheritance\n",
    "class ecommerce:\n",
    "    def clothing(self):\n",
    "        print(\"This is the clothing section\")\n",
    "\n",
    "class ecommerce2:\n",
    "    def wardrobe(self):\n",
    "        print(\"The is Wardrobe section\")\n",
    "        \n",
    "class ecom_multi(ecommerce,ecommerce2):\n",
    "    pass\n",
    "\n",
    "ecom=ecom_multi()\n",
    "ecom.clothing()\n",
    "ecom.wardrobe()\n"
   ]
  },
  {
   "cell_type": "code",
   "execution_count": 13,
   "metadata": {},
   "outputs": [
    {
     "name": "stdout",
     "output_type": "stream",
     "text": [
      "This is clothing section\n",
      "This is Wardrobe section\n"
     ]
    }
   ],
   "source": [
    "#Hierarchial Inheritance\n",
    "class ecommerce:\n",
    "    def clothing():\n",
    "        pass\n",
    "\n",
    "    def wardrobe():\n",
    "        pass\n",
    "\n",
    "class ecom1(ecommerce):\n",
    "    def clothing(self):\n",
    "        print(\"This is clothing section\")\n",
    "\n",
    "class ecom2(ecommerce):\n",
    "    def wardrobe(self):\n",
    "        print(\"This is Wardrobe section\")\n",
    "\n",
    "ecomobj1=ecom1()\n",
    "ecomobj2=ecom2()\n",
    "ecomobj1.clothing()\n",
    "ecomobj2.wardrobe()\n"
   ]
  }
 ],
 "metadata": {
  "kernelspec": {
   "display_name": "Python 3",
   "language": "python",
   "name": "python3"
  },
  "language_info": {
   "codemirror_mode": {
    "name": "ipython",
    "version": 3
   },
   "file_extension": ".py",
   "mimetype": "text/x-python",
   "name": "python",
   "nbconvert_exporter": "python",
   "pygments_lexer": "ipython3",
   "version": "3.11.2"
  },
  "orig_nbformat": 4
 },
 "nbformat": 4,
 "nbformat_minor": 2
}
